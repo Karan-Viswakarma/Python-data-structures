{
 "cells": [
  {
   "cell_type": "markdown",
   "id": "ed6062f1",
   "metadata": {},
   "source": [
    "## Strings "
   ]
  },
  {
   "cell_type": "code",
   "execution_count": 2,
   "id": "8ca19aa8",
   "metadata": {},
   "outputs": [],
   "source": [
    "# Sequence of elements between '' or \"\"\n",
    "# Primitive Datatype\n",
    "# Immutable : Cannot be modified in the same memory location \n",
    "# Upto certain length i.e., 4096 (2 ^ 12) without having any special char are Interned\n",
    "# Indexed i.e., chr can be accessed by indices\n",
    "# ASCII value of \"A\" is 65, 'Z' is 90, 'a' is 97 and 'z' is 122, diff(ord('a'), ord('A')) = 32 \n",
    "# String concatenation str1 + str2, string repetition str1 * n \n"
    "# chr() to get char from an ASCII value and ord() to get the ASCII value from a char\n",
    "# Slicing is similar to list\n",
    "# Other Concepts : bin(), oct(), hex() return str slicing[2:] gives actual value in string data type, \n",
    "                   # escape sequences : '\\n', '\\t'\n",
    "                   # raw strings i.e., r\"\" to avoid special meaning to chr followed by '\\'\n",
    "                   # format strings and place holders : f\"{}\" or \"{}\".format()  "
   ]
  },
  {
   "cell_type": "code",
   "execution_count": 1,
   "id": "f4e42e4e",
   "metadata": {},
   "outputs": [],
   "source": [
    "# ord('abc')\n",
    "    # TypeError: ord() expected a character, but string of length 3 found"
   ]
  },
  {
   "cell_type": "code",
   "execution_count": 12,
   "id": "a08357dc",
   "metadata": {},
   "outputs": [
    {
     "data": {
      "text/plain": [
       "('abcde', True, False)"
      ]
     },
     "execution_count": 12,
     "metadata": {},
     "output_type": "execute_result"
    }
   ],
   "source": [
    "s1 = 'abcde'\n",
    "s1[::-1][::-1], s1[::-1][::-1] == s1, s1[::-1][::-1] is s1 "
   ]
  },
  {
   "cell_type": "code",
   "execution_count": 15,
   "id": "bb4138ba",
   "metadata": {},
   "outputs": [
    {
     "data": {
      "text/plain": [
       "True"
      ]
     },
     "execution_count": 15,
     "metadata": {},
     "output_type": "execute_result"
    }
   ],
   "source": [
    "s2 = 'xyz'\n",
    "s2[:] is s2"
   ]
  },
  {
   "cell_type": "code",
   "execution_count": 16,
   "id": "d6274afc",
   "metadata": {},
   "outputs": [
    {
     "data": {
      "text/plain": [
       "False"
      ]
     },
     "execution_count": 16,
     "metadata": {},
     "output_type": "execute_result"
    }
   ],
   "source": [
    "s3 = 'abcd'\n",
    "s3[::-1][::-1] is s3\n",
    "# s[::-1] reverses s, but creates a reference to a new object. \n",
    "    # An additional [::-1] slice reverses it again, so it is equal to the original s. \n",
    "    # But it is not the same object"
   ]
  },
  {
   "cell_type": "code",
   "execution_count": 17,
   "id": "b2b3470b",
   "metadata": {},
   "outputs": [
    {
     "data": {
      "text/plain": [
       "False"
      ]
     },
     "execution_count": 17,
     "metadata": {},
     "output_type": "execute_result"
    }
   ],
   "source": [
    "s4 = 'mnop'\n",
    "s5 = s4[::-1][::-1]\n",
    "s4 is s5"
   ]
  },
  {
   "cell_type": "markdown",
   "id": "69800597",
   "metadata": {},
   "source": [
    "#### string count function"
   ]
  },
  {
   "cell_type": "code",
   "execution_count": 26,
   "id": "68fcaf36",
   "metadata": {},
   "outputs": [],
   "source": [
    "# S.count(sub[, start[, end]]) -> int\n",
    "# Return the number of non-overlapping occurrences of substring sub in\n",
    "    # string S[start:end].  Optional arguments start and end are\n",
    "    # interpreted as in slice notation."
   ]
  },
  {
   "cell_type": "code",
   "execution_count": 25,
   "id": "ed412883",
   "metadata": {},
   "outputs": [
    {
     "data": {
      "text/plain": [
       "(0, 3, 2)"
      ]
     },
     "execution_count": 25,
     "metadata": {},
     "output_type": "execute_result"
    }
   ],
   "source": [
    "'$100 $200 $300'.count('5'), '$100 $200 $300'.count('$'), '$100 $200 $300'.count('$', 5)"
   ]
  },
  {
   "cell_type": "code",
   "execution_count": 18,
   "id": "1a957053",
   "metadata": {},
   "outputs": [
    {
     "name": "stdout",
     "output_type": "stream",
     "text": [
      "3 1 2\n"
     ]
    }
   ],
   "source": [
    "print(\n",
    "    '$100 $200 $300'.count('$'),\n",
    "    '$100 $200 $300'.count('$', 5, 10),\n",
    "    '$100 $200 $300'.count('$', 5)\n",
    ")"
   ]
  },
  {
   "cell_type": "code",
   "execution_count": null,
   "id": "25626cfb",
   "metadata": {},
   "outputs": [],
   "source": [
    "# str.count() counts occurrences of the given substring within the specified string.\n",
    "\n",
    "# The second and third parameters indicate <start> and <end> values, interpreted \n",
    "# as for string slicing: the method applies to the portion of the string beginning \n",
    "# with character position <start>, up to but not including <end>."
   ]
  },
  {
   "cell_type": "code",
   "execution_count": 5,
   "id": "9ec82283",
   "metadata": {},
   "outputs": [
    {
     "data": {
      "text/plain": [
       "'foo-bar-baz'"
      ]
     },
     "execution_count": 5,
     "metadata": {},
     "output_type": "execute_result"
    }
   ],
   "source": [
    "s = 'foo-bar-baz'\n",
    "# s.upper().lower()                 # True\n",
    "\n",
    "\n",
    "# '-'.join(s.partition('-'))        # False\n",
    "# Unlike .split(), .partition() includes the separator character in \n",
    "    # the list it returns. The expression you’d need to join the list \n",
    "    # back together and obtain s again is ''.join(s.partition('-'))\n",
    "\n",
    "# s.center(15)                      # False           \n",
    "# s.center() would return s unchanged if the field width specified \n",
    "    # were less than or equal to len(s). But it isn’t in this case.\n",
    "\n",
    "# s.strip('-')                      # True\n",
    "# .strip() only removes leading and trailing characters. Since all\n",
    "    # the '-' characters are in the interior of s, none are removed in this case.\n",
    "\n",
    "# '-'.join(s.split('-'))            # True"
   ]
  },
  {
   "cell_type": "code",
   "execution_count": 9,
   "id": "287b376c",
   "metadata": {},
   "outputs": [
    {
     "data": {
      "text/plain": [
       "b'\\x00\\x00\\x00\\x00\\x00'"
      ]
     },
     "execution_count": 9,
     "metadata": {},
     "output_type": "execute_result"
    }
   ],
   "source": [
    "# As arguments, bytes() takes an integer, a string and an encoding, \n",
    "    # or an iterable. But not multiple integers.\n",
    "    \n",
    "# bytes(5)\n",
    "\n",
    "\n",
    "# bytes(0, 0, 0, 0, 0)\n",
    "\n",
    "\n",
    "# bytes([0] * 5)\n",
    "\n",
    "\n",
    "# bytes('\\x00\\x00\\x00\\x00\\x00', 'utf-8')"
   ]
  },
  {
   "cell_type": "code",
   "execution_count": 11,
   "id": "8f89d292",
   "metadata": {},
   "outputs": [],
   "source": [
    "# You can concatenate two bytes objects with the + operator, \n",
    "    # but not a bytes object and string:\n",
    "#  list((b'abcde' + 'fghi')[3:6])"
   ]
  },
  {
   "cell_type": "code",
   "execution_count": 13,
   "id": "f33393fe",
   "metadata": {},
   "outputs": [
    {
     "data": {
      "text/plain": [
       "(bytearray(b'15\\x80a#'), bytearray)"
      ]
     },
     "execution_count": 13,
     "metadata": {},
     "output_type": "execute_result"
    }
   ],
   "source": [
    "array_of_bytes = bytearray(b'15\\x80a#')\n",
    "array_of_bytes, type(array_of_bytes)\n",
    "# You can also create a bytearray object with the bytearray() function, \n",
    "    # passing an integer, a string and an encoding, or an iterable.\n",
    "\n",
    "# But there is no built-in syntax for defining a bytearray object, \n",
    "    # similar to the b'' syntax for a bytes object."
   ]
  },
  {
   "cell_type": "markdown",
   "id": "edbf71a5",
   "metadata": {},
   "source": [
    "#### s.partition(sep, /)\n",
    "    - Partition the string into three parts using the given separator.\n",
    "    - This will search for the separator in the string.  If the separator is found,\n",
    "        returns a 3-tuple containing the part before the separator, the separator\n",
    "        itself, and the part after it.\n",
    "    - If the separator is not found, returns a 3-tuple containing the original string\n",
    "        and two empty strings."
   ]
  },
  {
   "cell_type": "code",
   "execution_count": 4,
   "id": "de56ae26",
   "metadata": {},
   "outputs": [
    {
     "data": {
      "text/plain": [
       "(('foo', '-', 'bar-baz'), tuple)"
      ]
     },
     "execution_count": 4,
     "metadata": {},
     "output_type": "execute_result"
    }
   ],
   "source": [
    "s = 'foo-bar-baz'\n",
    "s.partition(\"-\"), type(s.partition(\"-\"))"
   ]
  },
  {
   "cell_type": "code",
   "execution_count": 5,
   "id": "079d21c7",
   "metadata": {},
   "outputs": [
    {
     "data": {
      "text/plain": [
       "('aa', '-', 'bb-cc-dd')"
      ]
     },
     "execution_count": 5,
     "metadata": {},
     "output_type": "execute_result"
    }
   ],
   "source": [
    "\"aa-bb-cc-dd\".partition('-')"
   ]
  },
  {
   "cell_type": "code",
   "execution_count": 7,
   "id": "ffb5c8dd",
   "metadata": {},
   "outputs": [
    {
     "data": {
      "text/plain": [
       "'   abcd   '"
      ]
     },
     "execution_count": 7,
     "metadata": {},
     "output_type": "execute_result"
    }
   ],
   "source": [
    "\"abcd\".center(10)"
   ]
  },
  {
   "cell_type": "code",
   "execution_count": 8,
   "id": "76b30353",
   "metadata": {},
   "outputs": [
    {
     "data": {
      "text/plain": [
       "('aabbcc', '', '')"
      ]
     },
     "execution_count": 8,
     "metadata": {},
     "output_type": "execute_result"
    }
   ],
   "source": [
    "'aabbcc'.partition(\"-\")"
   ]
  },
  {
   "cell_type": "code",
   "execution_count": 11,
   "id": "ee7d6f66",
   "metadata": {},
   "outputs": [],
   "source": [
    "def swap_case(s):\n",
    "    return \"\".join([i.upper() if i.islower() else i.lower() for i in s])"
   ]
  },
  {
   "cell_type": "code",
   "execution_count": 12,
   "id": "d092c1f4",
   "metadata": {},
   "outputs": [],
   "source": [
    "def rev_swap_case(s):\n",
    "    l1 = s.split(\" \")\n",
    "    l2 = l1[::-1]\n",
    "    res = []\n",
    "    for i in l2:\n",
    "        res.append(swap_case(i))\n",
    "    res = \" \".join(res)\n",
    "    return res"
   ]
  },
  {
   "cell_type": "code",
   "execution_count": 13,
   "id": "75c534cf",
   "metadata": {},
   "outputs": [
    {
     "data": {
      "text/plain": [
       "'Coding IS Awesome'"
      ]
     },
     "execution_count": 13,
     "metadata": {},
     "output_type": "execute_result"
    }
   ],
   "source": [
    "rev_swap_case(\"aWESOME is cODING\")"
   ]
  },
  {
   "cell_type": "code",
   "execution_count": 14,
   "id": "ec83f581",
   "metadata": {},
   "outputs": [
    {
     "data": {
      "text/plain": [
       "True"
      ]
     },
     "execution_count": 14,
     "metadata": {},
     "output_type": "execute_result"
    }
   ],
   "source": [
    "s1 = 'abcd'*1024\n",
    "s2 = 'abcd'*1024\n",
    "s1 is s2"
   ]
  },
  {
   "cell_type": "code",
   "execution_count": 15,
   "id": "64987f76",
   "metadata": {},
   "outputs": [
    {
     "data": {
      "text/plain": [
       "False"
      ]
     },
     "execution_count": 15,
     "metadata": {},
     "output_type": "execute_result"
    }
   ],
   "source": [
    "s1 = 'abcd'*1025\n",
    "s2 = 'abcd'*1025\n",
    "s1 is s2"
   ]
  },
  {
   "cell_type": "code",
   "execution_count": 17,
   "id": "e4d3e050",
   "metadata": {},
   "outputs": [
    {
     "data": {
      "text/plain": [
       "True"
      ]
     },
     "execution_count": 17,
     "metadata": {},
     "output_type": "execute_result"
    }
   ],
   "source": [
    "l = ['abcd'*1024, 'abcd'*1024]\n",
    "l[0] is l[1]"
   ]
  },
  {
   "cell_type": "code",
   "execution_count": null,
   "id": "1208b5c9",
   "metadata": {},
   "outputs": [],
   "source": []
  }
 ],
 "metadata": {
  "kernelspec": {
   "display_name": "Python 3 (ipykernel)",
   "language": "python",
   "name": "python3"
  },
  "language_info": {
   "codemirror_mode": {
    "name": "ipython",
    "version": 3
   },
   "file_extension": ".py",
   "mimetype": "text/x-python",
   "name": "python",
   "nbconvert_exporter": "python",
   "pygments_lexer": "ipython3",
   "version": "3.9.12"
  }
 },
 "nbformat": 4,
 "nbformat_minor": 5
}
