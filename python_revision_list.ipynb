{
 "cells": [
  {
   "cell_type": "markdown",
   "id": "de4ceebf",
   "metadata": {},
   "source": [
    "# Python Lists"
   ]
  },
  {
   "cell_type": "code",
   "execution_count": null,
   "id": "64557787",
   "metadata": {},
   "outputs": [],
   "source": [
    "# A collection of objects separated by comma. It is Ordered, Mutable, can stores any number of heterogenous data."
   ]
  },
  {
   "cell_type": "markdown",
   "id": "9351aa88",
   "metadata": {},
   "source": [
    "#### Creating a list"
   ]
  },
  {
   "cell_type": "code",
   "execution_count": 1,
   "id": "450e8991",
   "metadata": {},
   "outputs": [
    {
     "name": "stdout",
     "output_type": "stream",
     "text": [
      "<class 'list'>\n"
     ]
    }
   ],
   "source": [
    "l1 = [1, 2, 3]\n",
    "print(type(l1))"
   ]
  },
  {
   "cell_type": "markdown",
   "id": "d6b94275",
   "metadata": {},
   "source": [
    "#### Creating empty list"
   ]
  },
  {
   "cell_type": "code",
   "execution_count": 2,
   "id": "5d020a87",
   "metadata": {},
   "outputs": [
    {
     "name": "stdout",
     "output_type": "stream",
     "text": [
      "<class 'list'> <class 'list'>\n"
     ]
    }
   ],
   "source": [
    "l2 = list()\n",
    "l3 = []\n",
    "print(type(l2), type(l3))"
   ]
  },
  {
   "cell_type": "code",
   "execution_count": 26,
   "id": "9a73734b",
   "metadata": {},
   "outputs": [
    {
     "data": {
      "text/plain": [
       "False"
      ]
     },
     "execution_count": 26,
     "metadata": {},
     "output_type": "execute_result"
    }
   ],
   "source": [
    "# Two empty lists do not share the same memory location\n",
    "l1 = []\n",
    "l2 = []\n",
    "l1 is l2"
   ]
  },
  {
   "cell_type": "markdown",
   "id": "81474e9d",
   "metadata": {},
   "source": [
    "#### methods associated with lists"
   ]
  },
  {
   "cell_type": "code",
   "execution_count": 30,
   "id": "89355614",
   "metadata": {},
   "outputs": [
    {
     "name": "stdout",
     "output_type": "stream",
     "text": [
      "['__add__', '__class__', '__class_getitem__', '__contains__', '__delattr__', '__delitem__', '__dir__', '__doc__', '__eq__', '__format__', '__ge__', '__getattribute__', '__getitem__', '__gt__', '__hash__', '__iadd__', '__imul__', '__init__', '__init_subclass__', '__iter__', '__le__', '__len__', '__lt__', '__mul__', '__ne__', '__new__', '__reduce__', '__reduce_ex__', '__repr__', '__reversed__', '__rmul__', '__setattr__', '__setitem__', '__sizeof__', '__str__', '__subclasshook__', 'append', 'clear', 'copy', 'count', 'extend', 'index', 'insert', 'pop', 'remove', 'reverse', 'sort']\n"
     ]
    }
   ],
   "source": [
    "print(dir(list))"
   ]
  },
  {
   "cell_type": "markdown",
   "id": "ace19bfb",
   "metadata": {},
   "source": [
    "#### Iterating through list:"
   ]
  },
  {
   "cell_type": "code",
   "execution_count": 16,
   "id": "56611c99",
   "metadata": {},
   "outputs": [
    {
     "name": "stdout",
     "output_type": "stream",
     "text": [
      "10    20    30    40    "
     ]
    }
   ],
   "source": [
    "l = [10, 20, 30, 40]\n",
    "for i in range(len(l)):\n",
    "    print(l[i], end = \"    \")"
   ]
  },
  {
   "cell_type": "code",
   "execution_count": 15,
   "id": "16128d2f",
   "metadata": {},
   "outputs": [
    {
     "name": "stdout",
     "output_type": "stream",
     "text": [
      "10    20    30    40    "
     ]
    }
   ],
   "source": [
    "# Modified forloop:\n",
    "for i in l:\n",
    "    print(i, end = \"    \")"
   ]
  },
  {
   "cell_type": "code",
   "execution_count": 17,
   "id": "b111d935",
   "metadata": {},
   "outputs": [
    {
     "name": "stdout",
     "output_type": "stream",
     "text": [
      "0 : 10\n",
      "1 : 20\n",
      "2 : 30\n",
      "3 : 40\n"
     ]
    }
   ],
   "source": [
    "# accessing index and value simultaneously:\n",
    "for index, value in enumerate(l):\n",
    "    print(index, value, sep = \" : \")"
   ]
  },
  {
   "cell_type": "markdown",
   "id": "c98afb71",
   "metadata": {},
   "source": [
    "#### Creating iterator object "
   ]
  },
  {
   "cell_type": "code",
   "execution_count": 20,
   "id": "edeee875",
   "metadata": {},
   "outputs": [
    {
     "name": "stdout",
     "output_type": "stream",
     "text": [
      "10\n",
      "20\n",
      "30\n",
      "40\n"
     ]
    }
   ],
   "source": [
    "iter_obj = iter(l)\n",
    "for i in range(len(l)):\n",
    "    print(next(iter_obj))"
   ]
  },
  {
   "cell_type": "markdown",
   "id": "e4d04b08",
   "metadata": {},
   "source": [
    "#### converting string to list "
   ]
  },
  {
   "cell_type": "code",
   "execution_count": 31,
   "id": "f3625fda",
   "metadata": {},
   "outputs": [
    {
     "name": "stdout",
     "output_type": "stream",
     "text": [
      "['a', 'b', 'r', 'a', ' ', 'k', 'a', ' ', 'd', 'a', 'b', 'r', 'a']\n",
      "['abra', 'ka', 'dabra']\n"
     ]
    }
   ],
   "source": [
    "s = \"abra ka dabra\"\n",
    "print(list(s))\n",
    "print(s.split())"
   ]
  },
  {
   "cell_type": "markdown",
   "id": "4a97c12f",
   "metadata": {},
   "source": [
    "#### list comprehension "
   ]
  },
  {
   "cell_type": "code",
   "execution_count": 32,
   "id": "284850fa",
   "metadata": {},
   "outputs": [
    {
     "data": {
      "text/plain": [
       "[0, 1, 4, 9, 16, 25, 36, 49, 64, 81]"
      ]
     },
     "execution_count": 32,
     "metadata": {},
     "output_type": "execute_result"
    }
   ],
   "source": [
    "[i*i for i in range(10)]"
   ]
  },
  {
   "cell_type": "code",
   "execution_count": 33,
   "id": "e29a04f1",
   "metadata": {},
   "outputs": [
    {
     "data": {
      "text/plain": [
       "[[1, 2, 3], [1, 2, 3], [1, 2, 3]]"
      ]
     },
     "execution_count": 33,
     "metadata": {},
     "output_type": "execute_result"
    }
   ],
   "source": [
    "[[j for j in range(1, 4)] for i in range(7, 10)]"
   ]
  },
  {
   "cell_type": "markdown",
   "id": "33a7d141",
   "metadata": {},
   "source": [
    "#### magic methods associated with lists"
   ]
  },
  {
   "cell_type": "code",
   "execution_count": 6,
   "id": "d34f2b9f",
   "metadata": {},
   "outputs": [
    {
     "data": {
      "text/plain": [
       "[1, 2, 3, 4, 5]"
      ]
     },
     "execution_count": 6,
     "metadata": {},
     "output_type": "execute_result"
    }
   ],
   "source": [
    "[1, 2, 3].__add__([4, 5])"
   ]
  },
  {
   "cell_type": "code",
   "execution_count": 9,
   "id": "41bd3572",
   "metadata": {},
   "outputs": [
    {
     "data": {
      "text/plain": [
       "True"
      ]
     },
     "execution_count": 9,
     "metadata": {},
     "output_type": "execute_result"
    }
   ],
   "source": [
    "[1, 2, 5, 7].__contains__(2)"
   ]
  },
  {
   "cell_type": "code",
   "execution_count": 11,
   "id": "48a9c8a8",
   "metadata": {},
   "outputs": [
    {
     "data": {
      "text/plain": [
       "[1, 2, 1, 2, 1, 2]"
      ]
     },
     "execution_count": 11,
     "metadata": {},
     "output_type": "execute_result"
    }
   ],
   "source": [
    "[1, 2].__mul__(3)"
   ]
  },
  {
   "cell_type": "markdown",
   "id": "c78d0f67",
   "metadata": {},
   "source": [
    "#### Mutable nature of lists "
   ]
  },
  {
   "cell_type": "code",
   "execution_count": 4,
   "id": "e6567330",
   "metadata": {},
   "outputs": [
    {
     "name": "stdout",
     "output_type": "stream",
     "text": [
      "2623524569472\n",
      "[11, 78, 70, 56, 89]\n",
      "2623524569472\n"
     ]
    }
   ],
   "source": [
    "l1 = [11, 78, 34, 56, 89]\n",
    "print(id(l1))\n",
    "l1[2] = 70\n",
    "print(l1)\n",
    "print(id(l1))               # id remains the same since lists are mutable"
   ]
  },
  {
   "cell_type": "code",
   "execution_count": 5,
   "id": "df3600a2",
   "metadata": {},
   "outputs": [
    {
     "name": "stdout",
     "output_type": "stream",
     "text": [
      "True\n",
      "False\n"
     ]
    }
   ],
   "source": [
    "s1 = 'hello'\n",
    "s2 = s1[:]                 # strings are immutable, same strings occupy the same place in the memory\n",
    "print(s1 is s2)             # strings are interned i.e. no separate copy of the same string is made\n",
    "l1 = [1, 2, 3]\n",
    "l2 = l1[:]                 # list slicing creates a new copy in the memory \n",
    "print(l1 is l2)"
   ]
  },
  {
   "cell_type": "code",
   "execution_count": 6,
   "id": "5baace10",
   "metadata": {},
   "outputs": [
    {
     "name": "stdout",
     "output_type": "stream",
     "text": [
      "2623524327616\n",
      "[11, 'a', 'b', 'c', 'd', 89]\n",
      "2623524327616\n"
     ]
    }
   ],
   "source": [
    "l1 = [11, 78, 34, 56, 89]\n",
    "print(id(l1))\n",
    "l1[1:-1] = ['a', 'b', 'c', 'd']      # list can shrink or expand \n",
    "print(l1)\n",
    "print(id(l1)) "
   ]
  },
  {
   "cell_type": "code",
   "execution_count": 9,
   "id": "844d578d",
   "metadata": {},
   "outputs": [
    {
     "name": "stdout",
     "output_type": "stream",
     "text": [
      "[11, 78, 34, 56, 89] 2623524563392\n",
      "[34]\n",
      "[11, 78, 1, 0, 8, 56, 89] 2623524563392\n"
     ]
    }
   ],
   "source": [
    "l1 = [11, 78, 34, 56, 89]\n",
    "print(l1, id(l1))\n",
    "print(l1[2:3])\n",
    "l1[2:3] = [1, 0, 8]\n",
    "print(l1, id(l1))"
   ]
  },
  {
   "cell_type": "code",
   "execution_count": 12,
   "id": "88d4abb5",
   "metadata": {},
   "outputs": [
    {
     "name": "stdout",
     "output_type": "stream",
     "text": [
      "[11, 78, 34, 56, 89] 2623552569088\n",
      "[34]\n"
     ]
    },
    {
     "ename": "TypeError",
     "evalue": "can only assign an iterable",
     "output_type": "error",
     "traceback": [
      "\u001b[1;31m---------------------------------------------------------------------------\u001b[0m",
      "\u001b[1;31mTypeError\u001b[0m                                 Traceback (most recent call last)",
      "Input \u001b[1;32mIn [12]\u001b[0m, in \u001b[0;36m<cell line: 4>\u001b[1;34m()\u001b[0m\n\u001b[0;32m      2\u001b[0m \u001b[38;5;28mprint\u001b[39m(l1, \u001b[38;5;28mid\u001b[39m(l1))\n\u001b[0;32m      3\u001b[0m \u001b[38;5;28mprint\u001b[39m(l1[\u001b[38;5;241m2\u001b[39m:\u001b[38;5;241m3\u001b[39m])\n\u001b[1;32m----> 4\u001b[0m l1[\u001b[38;5;241m2\u001b[39m:\u001b[38;5;241m3\u001b[39m] \u001b[38;5;241m=\u001b[39m \u001b[38;5;241m108\u001b[39m\n\u001b[0;32m      5\u001b[0m \u001b[38;5;28mprint\u001b[39m(l1, \u001b[38;5;28mid\u001b[39m(l1))\n",
      "\u001b[1;31mTypeError\u001b[0m: can only assign an iterable"
     ]
    }
   ],
   "source": [
    "l1 = [11, 78, 34, 56, 89]\n",
    "print(l1, id(l1))\n",
    "print(l1[2:3])\n",
    "l1[2:3] = 108          # list slicing results a list so it is to be assigned with an iterable only\n",
    "print(l1, id(l1))"
   ]
  },
  {
   "cell_type": "code",
   "execution_count": 13,
   "id": "b20cf7bd",
   "metadata": {},
   "outputs": [
    {
     "name": "stdout",
     "output_type": "stream",
     "text": [
      "[11, 78, 34, 56, 89] 2623553019712\n",
      "[34]\n",
      "[11, 78, 1, 0, 8, 56, 89] 2623553019712\n"
     ]
    }
   ],
   "source": [
    "l1 = [11, 78, 34, 56, 89]\n",
    "print(l1, id(l1))\n",
    "print(l1[2:3])\n",
    "l1[2:3] = 1, 0, 8          # list slicing results a list so it is to be assigned an iterable only\n",
    "print(l1, id(l1))          # here a tuple"
   ]
  },
  {
   "cell_type": "code",
   "execution_count": 14,
   "id": "2109e9e1",
   "metadata": {},
   "outputs": [
    {
     "name": "stdout",
     "output_type": "stream",
     "text": [
      "[11, 78, 34, 56, 89] 2623553093056\n",
      "[34]\n",
      "[11, 78, '1', '0', '8', 56, 89] 2623553093056\n"
     ]
    }
   ],
   "source": [
    "l1 = [11, 78, 34, 56, 89]\n",
    "print(l1, id(l1))\n",
    "print(l1[2:3])\n",
    "l1[2:3] = '108'     # list slicing results a list (iterable) so it is to be assigned an iterable only\n",
    "print(l1, id(l1)) "
   ]
  },
  {
   "cell_type": "code",
   "execution_count": 16,
   "id": "153dce2b",
   "metadata": {},
   "outputs": [
    {
     "data": {
      "text/plain": [
       "['1', '0', '8']"
      ]
     },
     "execution_count": 16,
     "metadata": {},
     "output_type": "execute_result"
    }
   ],
   "source": [
    "list('108')"
   ]
  },
  {
   "cell_type": "code",
   "execution_count": 10,
   "id": "7a59d9ef",
   "metadata": {},
   "outputs": [
    {
     "name": "stdout",
     "output_type": "stream",
     "text": [
      "[11, 78, 34, 56, 89] 2623524570560\n",
      "34\n",
      "[11, 78, [7, 8, 6], 56, 89] 2623524570560\n"
     ]
    }
   ],
   "source": [
    "l1 = [11, 78, 34, 56, 89]\n",
    "print(l1, id(l1))\n",
    "print(l1[2])\n",
    "l1[2] = [7, 8, 6]            # The integer 34 is replaced by a list\n",
    "print(l1, id(l1))"
   ]
  },
  {
   "cell_type": "code",
   "execution_count": 18,
   "id": "51b26604",
   "metadata": {},
   "outputs": [
    {
     "name": "stdout",
     "output_type": "stream",
     "text": [
      "[11, 78, 34, 56, 89] 2623553093184\n",
      "34\n",
      "[11, 78, (7, 8, 6), 56, 89] 2623553093184\n"
     ]
    }
   ],
   "source": [
    "l1 = [11, 78, 34, 56, 89]\n",
    "print(l1, id(l1))\n",
    "print(l1[2])\n",
    "l1[2] = 7, 8, 6            # 7, 8, 6 is a tuple\n",
    "print(l1, id(l1))          # The integer 34 is replaced by a tuple"
   ]
  },
  {
   "cell_type": "code",
   "execution_count": 19,
   "id": "385ad06c",
   "metadata": {},
   "outputs": [
    {
     "name": "stdout",
     "output_type": "stream",
     "text": [
      "[11, 78, 34, 56, 89] 2623553093056\n",
      "[11, 78, 1, 0, 8, 34, 56, 89] 2623553093056\n"
     ]
    }
   ],
   "source": [
    "l1 = [11, 78, 34, 56, 89]\n",
    "print(l1, id(l1))\n",
    "# If we want to put some elements without removing any element between 78 and 34 \n",
    "l1[2:2] = 1, 0, 8             # Zero length slice\n",
    "print(l1, id(l1))"
   ]
  },
  {
   "cell_type": "code",
   "execution_count": 20,
   "id": "c48286ab",
   "metadata": {},
   "outputs": [
    {
     "name": "stdout",
     "output_type": "stream",
     "text": [
      "[11, 78, 34, 56, 89] 2623552700288\n",
      "[11, 78] 2623552700288\n"
     ]
    }
   ],
   "source": [
    "l1 = [11, 78, 34, 56, 89]\n",
    "print(l1, id(l1))\n",
    "l1[2:] = []                 # deleting contiguous elements by assigning list slice to the empty list\n",
    "print(l1, id(l1))"
   ]
  },
  {
   "cell_type": "code",
   "execution_count": 21,
   "id": "380b17cf",
   "metadata": {},
   "outputs": [
    {
     "name": "stdout",
     "output_type": "stream",
     "text": [
      "[11, 78, 34, 56, 89] 2623553093184\n",
      "[11, 78] 2623553093184\n"
     ]
    }
   ],
   "source": [
    "l1 = [11, 78, 34, 56, 89]\n",
    "print(l1, id(l1))\n",
    "del l1[2:]\n",
    "print(l1, id(l1))"
   ]
  },
  {
   "cell_type": "code",
   "execution_count": 22,
   "id": "5c67ca7d",
   "metadata": {},
   "outputs": [
    {
     "data": {
      "text/plain": [
       "True"
      ]
     },
     "execution_count": 22,
     "metadata": {},
     "output_type": "execute_result"
    }
   ],
   "source": [
    "t1 = (1, 2, 3, 4, 5)\n",
    "t2 = t1[:]             # Since tuples are immutable, slicing points at the same memory location\n",
    "t1 is t2            # For immutable objects, slicing creates a shalllow copy"
   ]
  },
  {
   "cell_type": "code",
   "execution_count": 1,
   "id": "e32abe8b",
   "metadata": {},
   "outputs": [
    {
     "data": {
      "text/plain": [
       "([1, 2, 3, 4, 5],\n",
       " [1, 2, 3, 4, 5, 6, 7, 8],\n",
       " [1, 2, 3, 4, 5, 6, 7, 8],\n",
       " [1, 2, 3, 4, 5, 6, 7, 8])"
      ]
     },
     "execution_count": 1,
     "metadata": {},
     "output_type": "execute_result"
    }
   ],
   "source": [
    "l = [1, 2, 3, 4, 5]\n",
    "l1 = list(l)                   # Creating deep copy\n",
    "l1[5:] = [6, 7, 8]\n",
    "l2 = l.copy()                  # l.copy() exists for the lists as well\n",
    "l2 += [6, 7, 8]\n",
    "l3 = list(l)\n",
    "l3.extend([6, 7, 8])          # l.extend() returns None but updates l \n",
    "l, l1, l2, l3"
   ]
  },
  {
   "cell_type": "markdown",
   "id": "6bd10dd7",
   "metadata": {},
   "source": [
    "### Be careful while Mutating iterable during iteration :"
   ]
  },
  {
   "cell_type": "code",
   "execution_count": 10,
   "id": "d7f3e545",
   "metadata": {},
   "outputs": [
    {
     "name": "stdout",
     "output_type": "stream",
     "text": [
      "[1, 2, 6, 4, 5]\n"
     ]
    }
   ],
   "source": [
    "# obtaing updated list after removing all elements divisible by 3........\n",
    "l1 = [1, 2, 3, 6, 4, 5]\n",
    "for i in l1:\n",
    "    if i % 3 == 0:\n",
    "        l1.remove(i)\n",
    "print(l1)"
   ]
  },
  {
   "cell_type": "markdown",
   "id": "0b065dd1",
   "metadata": {},
   "source": [
    "#### List repetition concept:"
   ]
  },
  {
   "cell_type": "code",
   "execution_count": 22,
   "id": "e455c280",
   "metadata": {},
   "outputs": [
    {
     "data": {
      "text/plain": [
       "[[1, 2, 3], [1, 2, 3], [1, 2, 3]]"
      ]
     },
     "execution_count": 22,
     "metadata": {},
     "output_type": "execute_result"
    }
   ],
   "source": [
    "l1 = [[1, 2, 3]] * 3          \n",
    "l1"
   ]
  },
  {
   "cell_type": "code",
   "execution_count": 23,
   "id": "9b7ef460",
   "metadata": {},
   "outputs": [
    {
     "data": {
      "text/plain": [
       "[[1, 100, 3], [1, 100, 3], [1, 100, 3]]"
      ]
     },
     "execution_count": 23,
     "metadata": {},
     "output_type": "execute_result"
    }
   ],
   "source": [
    "l1[1][1] = 100\n",
    "l1"
   ]
  },
  {
   "cell_type": "raw",
   "id": "1d31e707",
   "metadata": {},
   "source": [
    "Reason : All the repeting elements refer to the same object in the memory.\n",
    "         So mutating index of any element means we are making changes in the object itself.\n",
    "         Therefore, the changes get reflected in all the repeating elements."
   ]
  },
  {
   "cell_type": "raw",
   "id": "a656b3f1",
   "metadata": {},
   "source": [
    "Methods : 'append', 'clear', 'copy', 'count', 'extend', 'list.index(val) returns ValueError, Costly Operation', \n",
    "          'list.insert(idx, val)', 'list.pop(idx = -1) returns the popped element', 'list.remove(val) returns ValueError', 'reverse', 'sort'\n",
    "           sum(list), len(list), max(list), min(list)\n",
    "Concepts : \n",
    "=======> Zero based indexing, supports negative indexing, list slicing with or without steps possible, zero length slicing                possible\n",
    "=======> sort(list) vs sorted(list), reverse(list) vs reversed(list)\n",
    "=======> tuple packing and unpacking\n",
    "=======> Mutating iterable during iteration\n",
    "=======> any(list), all(list)"
   ]
  },
  {
   "cell_type": "code",
   "execution_count": null,
   "id": "5d21952e",
   "metadata": {},
   "outputs": [],
   "source": []
  },
  {
   "cell_type": "code",
   "execution_count": null,
   "id": "b21a2ffc",
   "metadata": {},
   "outputs": [],
   "source": []
  }
 ],
 "metadata": {
  "kernelspec": {
   "display_name": "Python 3 (ipykernel)",
   "language": "python",
   "name": "python3"
  },
  "language_info": {
   "codemirror_mode": {
    "name": "ipython",
    "version": 3
   },
   "file_extension": ".py",
   "mimetype": "text/x-python",
   "name": "python",
   "nbconvert_exporter": "python",
   "pygments_lexer": "ipython3",
   "version": "3.9.12"
  }
 },
 "nbformat": 4,
 "nbformat_minor": 5
}
